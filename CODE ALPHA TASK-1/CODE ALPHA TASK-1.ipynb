{
 "cells": [
  {
   "cell_type": "code",
   "execution_count": 11,
   "metadata": {},
   "outputs": [
    {
     "name": "stdout",
     "output_type": "stream",
     "text": [
      "Starting packet capture... Press Ctrl+C to stop.\n",
      "\n",
      "=== Packet Captured ===\n",
      "Source IP: 10.28.178.246\n",
      "Destination IP: 148.113.9.53\n",
      "Protocol Number: 6\n",
      "Protocol: TCP\n",
      "Source Port: 51300\n",
      "Destination Port: 443\n",
      "Payload: \u0000\n",
      "\n",
      "=== Packet Captured ===\n",
      "Source IP: 148.113.9.53\n",
      "Destination IP: 10.28.178.246\n",
      "Protocol Number: 6\n",
      "Protocol: TCP\n",
      "Source Port: 443\n",
      "Destination Port: 51300\n",
      "Payload: <empty>\n",
      "\n",
      "=== Packet Captured ===\n",
      "Source IP: 10.28.178.246\n",
      "Destination IP: 148.113.9.53\n",
      "Protocol Number: 6\n",
      "Protocol: TCP\n",
      "Source Port: 51300\n",
      "Destination Port: 443\n",
      "Payload: \u0000\n",
      "\n",
      "=== Packet Captured ===\n",
      "Source IP: 148.113.9.53\n",
      "Destination IP: 10.28.178.246\n",
      "Protocol Number: 6\n",
      "Protocol: TCP\n",
      "Source Port: 443\n",
      "Destination Port: 51300\n",
      "Payload: <empty>\n",
      "\n",
      "=== Packet Captured ===\n",
      "Source IP: 10.28.178.246\n",
      "Destination IP: 148.113.9.53\n",
      "Protocol Number: 6\n",
      "Protocol: TCP\n",
      "Source Port: 51300\n",
      "Destination Port: 443\n",
      "Payload: <empty>\n"
     ]
    },
    {
     "data": {
      "text/plain": [
       "<Sniffed: TCP:0 UDP:0 ICMP:0 Other:0>"
      ]
     },
     "execution_count": 11,
     "metadata": {},
     "output_type": "execute_result"
    }
   ],
   "source": [
    "from scapy.all import sniff, IP, TCP, UDP, ICMP, Raw\n",
    "\n",
    "def analyze_packet(packet):\n",
    "    print(\"\\n=== Packet Captured ===\")\n",
    "\n",
    "    if IP in packet:\n",
    "        ip_layer = packet[IP]\n",
    "        print(f\"Source IP: {ip_layer.src}\")\n",
    "        print(f\"Destination IP: {ip_layer.dst}\")\n",
    "        print(f\"Protocol Number: {ip_layer.proto}\")\n",
    "\n",
    "        if TCP in packet:\n",
    "            tcp_layer = packet[TCP]\n",
    "            print(\"Protocol: TCP\")\n",
    "            print(f\"Source Port: {tcp_layer.sport}\")\n",
    "            print(f\"Destination Port: {tcp_layer.dport}\")\n",
    "            if Raw in packet:\n",
    "                payload = packet[Raw].load\n",
    "                try:\n",
    "                    print(f\"Payload: {payload.decode(errors='ignore')}\")\n",
    "                except:\n",
    "                    print(f\"Payload (raw): {payload}\")\n",
    "            else:\n",
    "                print(\"Payload: <empty>\")\n",
    "\n",
    "        elif UDP in packet:\n",
    "            udp_layer = packet[UDP]\n",
    "            print(\"Protocol: UDP\")\n",
    "            print(f\"Source Port: {udp_layer.sport}\")\n",
    "            print(f\"Destination Port: {udp_layer.dport}\")\n",
    "            if Raw in packet:\n",
    "                payload = packet[Raw].load\n",
    "                try:\n",
    "                    print(f\"Payload: {payload.decode(errors='ignore')}\")\n",
    "                except:\n",
    "                    print(f\"Payload (raw): {payload}\")\n",
    "            else:\n",
    "                print(\"Payload: <empty>\")\n",
    "\n",
    "        elif ICMP in packet:\n",
    "            print(\"Protocol: ICMP\")\n",
    "            print(f\"Type: {packet[ICMP].type}, Code: {packet[ICMP].code}\")\n",
    "\n",
    "    else:\n",
    "        print(\"Non-IP packet captured\")\n",
    "\n",
    "print(\"Starting packet capture... Press Ctrl+C to stop.\")\n",
    "sniff(prn=analyze_packet, store=False, count=5)"
   ]
  }
 ],
 "metadata": {
  "kernelspec": {
   "display_name": "Python 3",
   "language": "python",
   "name": "python3"
  },
  "language_info": {
   "codemirror_mode": {
    "name": "ipython",
    "version": 3
   },
   "file_extension": ".py",
   "mimetype": "text/x-python",
   "name": "python",
   "nbconvert_exporter": "python",
   "pygments_lexer": "ipython3",
   "version": "3.8.5"
  }
 },
 "nbformat": 4,
 "nbformat_minor": 4
}
