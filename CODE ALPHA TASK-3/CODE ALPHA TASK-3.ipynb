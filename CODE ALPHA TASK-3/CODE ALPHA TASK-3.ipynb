{
 "cells": [
  {
   "cell_type": "code",
   "execution_count": null,
   "metadata": {},
   "outputs": [
    {
     "name": "stdout",
     "output_type": "stream",
     "text": [
      " * Serving Flask app \"__main__\" (lazy loading)\n",
      " * Environment: production\n",
      "   WARNING: This is a development server. Do not use it in a production deployment.\n",
      "   Use a production WSGI server instead.\n",
      " * Debug mode: on\n"
     ]
    },
    {
     "name": "stderr",
     "output_type": "stream",
     "text": [
      " * Running on http://127.0.0.1:5000/ (Press CTRL+C to quit)\n",
      "127.0.0.1 - - [03/Sep/2025 21:47:45] \"\u001b[37mGET /register HTTP/1.1\u001b[0m\" 200 -\n",
      "127.0.0.1 - - [03/Sep/2025 21:48:23] \"\u001b[37mPOST /register HTTP/1.1\u001b[0m\" 200 -\n",
      "127.0.0.1 - - [03/Sep/2025 21:48:34] \"\u001b[37mGET /login HTTP/1.1\u001b[0m\" 200 -\n",
      "127.0.0.1 - - [03/Sep/2025 21:48:45] \"\u001b[37mPOST /login HTTP/1.1\u001b[0m\" 200 -\n",
      "127.0.0.1 - - [03/Sep/2025 21:48:47] \"\u001b[37mGET /login HTTP/1.1\u001b[0m\" 200 -\n",
      "127.0.0.1 - - [03/Sep/2025 21:49:11] \"\u001b[37mPOST /login HTTP/1.1\u001b[0m\" 200 -\n",
      "127.0.0.1 - - [03/Sep/2025 21:49:52] \"\u001b[37mGET /login HTTP/1.1\u001b[0m\" 200 -\n",
      "127.0.0.1 - - [03/Sep/2025 21:50:14] \"\u001b[37mGET /login HTTP/1.1\u001b[0m\" 200 -\n",
      "127.0.0.1 - - [03/Sep/2025 21:50:42] \"\u001b[37mPOST /login HTTP/1.1\u001b[0m\" 200 -\n",
      "127.0.0.1 - - [03/Sep/2025 22:10:32] \"\u001b[37mGET /login HTTP/1.1\u001b[0m\" 200 -\n",
      "127.0.0.1 - - [03/Sep/2025 23:28:10] \"\u001b[37mGET /register HTTP/1.1\u001b[0m\" 200 -\n",
      "127.0.0.1 - - [03/Sep/2025 23:28:36] \"\u001b[37mPOST /register HTTP/1.1\u001b[0m\" 200 -\n",
      "127.0.0.1 - - [03/Sep/2025 23:29:59] \"\u001b[37mGET /login HTTP/1.1\u001b[0m\" 200 -\n",
      "127.0.0.1 - - [03/Sep/2025 23:30:22] \"\u001b[37mPOST /login HTTP/1.1\u001b[0m\" 200 -\n"
     ]
    }
   ],
   "source": [
    "from flask import Flask, request\n",
    "import sqlite3\n",
    "from werkzeug.security import generate_password_hash, check_password_hash\n",
    "\n",
    "app = Flask(__name__)\n",
    "\n",
    "@app.route(\"/register\", methods=[\"GET\", \"POST\"])\n",
    "def register():\n",
    "    if request.method == \"POST\":\n",
    "        username = request.form[\"username\"]\n",
    "        password = request.form[\"password\"]\n",
    "\n",
    "        # Hash password before saving\n",
    "        hashed_pw = generate_password_hash(password)\n",
    "\n",
    "        conn = sqlite3.connect(\"users.db\")\n",
    "        cursor = conn.cursor()\n",
    "        cursor.execute(\"CREATE TABLE IF NOT EXISTS users (username TEXT, password TEXT)\")\n",
    "        cursor.execute(\"INSERT INTO users (username, password) VALUES (?, ?)\", (username, hashed_pw))\n",
    "        conn.commit()\n",
    "        conn.close()\n",
    "\n",
    "        return \"User registered successfully!\"\n",
    "    \n",
    "    # Show registration form if GET\n",
    "    return '''\n",
    "        <form method=\"post\">\n",
    "            <input type=\"text\" name=\"username\" placeholder=\"username\">\n",
    "            <input type=\"password\" name=\"password\" placeholder=\"password\">\n",
    "            <input type=\"submit\" value=\"Register\">\n",
    "        </form>\n",
    "    '''\n",
    "\n",
    "# ---------- LOGIN ----------\n",
    "@app.route(\"/login\", methods=[\"GET\", \"POST\"])\n",
    "def login():\n",
    "    if request.method == \"POST\":\n",
    "        username = request.form[\"username\"]\n",
    "        password = request.form[\"password\"]\n",
    "\n",
    "        conn = sqlite3.connect(\"users.db\")\n",
    "        cursor = conn.cursor()\n",
    "        cursor.execute(\"SELECT password FROM users WHERE username=?\", (username,))\n",
    "        result = cursor.fetchone()\n",
    "        conn.close()\n",
    "\n",
    "        if result and check_password_hash(result[0], password):\n",
    "            return \"Login successful!\"\n",
    "        else:\n",
    "            return \"Invalid credentials\"\n",
    "    \n",
    "    # Show login form if GET\n",
    "    return '''\n",
    "        <form method=\"post\">\n",
    "            <input type=\"text\" name=\"username\" placeholder=\"username\">\n",
    "            <input type=\"password\" name=\"password\" placeholder=\"password\">\n",
    "            <input type=\"submit\" value=\"Login\">\n",
    "        </form>\n",
    "    '''\n",
    "\n",
    "if __name__ == \"__main__\":\n",
    "    app.run(debug=True, use_reloader=False)"
   ]
  },
  {
   "cell_type": "code",
   "execution_count": null,
   "metadata": {},
   "outputs": [],
   "source": []
  }
 ],
 "metadata": {
  "kernelspec": {
   "display_name": "Python 3 (ipykernel)",
   "language": "python",
   "name": "python3"
  },
  "language_info": {
   "codemirror_mode": {
    "name": "ipython",
    "version": 3
   },
   "file_extension": ".py",
   "mimetype": "text/x-python",
   "name": "python",
   "nbconvert_exporter": "python",
   "pygments_lexer": "ipython3",
   "version": "3.13.7"
  }
 },
 "nbformat": 4,
 "nbformat_minor": 4
}
